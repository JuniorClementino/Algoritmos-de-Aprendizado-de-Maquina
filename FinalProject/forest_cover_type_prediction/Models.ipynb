{
 "cells": [
  {
   "cell_type": "code",
   "execution_count": null,
   "metadata": {
    "trusted": true
   },
   "outputs": [],
   "source": [
    "import pandas as pd\n",
    "import numpy as np\n",
    "from sklearn.neural_network import MLPClassifier\n",
    "from sklearn.linear_model import Perceptron\n",
    "from sklearn import svm\n",
    "from sklearn.model_selection import KFold, StratifiedKFold\n",
    "from sklearn.metrics import accuracy_score\n",
    "import time\n",
    "from sklearn.metrics import confusion_matrix\n",
    "from sklearn.utils import shuffle\n",
    "from sklearn.preprocessing import MinMaxScaler, StandardScaler\n",
    "from sklearn.ensemble import *\n",
    "from xgboost import XGBClassifier\n",
    "\n",
    "pd.options.display.max_colwidth = 150\n",
    "data = pd.read_csv(\"../input/train.csv\")\n",
    "test = pd.read_csv('../input/test.csv')\n",
    "data.head()"
   ]
  },
  {
   "cell_type": "code",
   "execution_count": null,
   "metadata": {
    "trusted": true
   },
   "outputs": [],
   "source": [
    "data.describe()"
   ]
  },
  {
   "cell_type": "code",
   "execution_count": null,
   "metadata": {
    "trusted": true
   },
   "outputs": [],
   "source": [
    "# data.info()"
   ]
  },
  {
   "cell_type": "code",
   "execution_count": null,
   "metadata": {
    "trusted": true
   },
   "outputs": [],
   "source": [
    "data_labels = data['Cover_Type'] - 1\n",
    "data_train = data.drop(columns = ['Cover_Type', 'Id'])\n",
    "test_ids = test['Id']\n",
    "data_test = test.drop(columns=['Id'])"
   ]
  },
  {
   "cell_type": "code",
   "execution_count": null,
   "metadata": {
    "trusted": true
   },
   "outputs": [],
   "source": [
    "# Normalizing the dataset: standardize features by removing the mean and scaling to unit variance\n",
    "scaler = StandardScaler()\n",
    "scaler.fit(data_train)\n",
    "scaler.fit(data_test)\n",
    "data_train[:] = scaler.transform(data_train)\n",
    "data_test[:] = scaler.transform(data_test)\n",
    "models, results, tempos = list(), list(), list()"
   ]
  },
  {
   "cell_type": "code",
   "execution_count": null,
   "metadata": {
    "trusted": true
   },
   "outputs": [],
   "source": [
    "all_models=[XGBClassifier(n_estimators=256, objective='multi:softmax', num_class=7, max_depth=9, \n",
    "            colsample_bytree=.8, colsample_bylevel=.8, n_jobs=-1),\n",
    "            GradientBoostingClassifier(n_estimators=256, max_depth=9),\n",
    "            RandomForestClassifier(n_estimators=256, max_depth=9),\n",
    "            MLPClassifier(solver='lbfgs', alpha=1e-5, hidden_layer_sizes=(64, 32, 16), activation='logistic', random_state=5)]\n",
    "\n",
    "models.extend(all_models)"
   ]
  },
  {
   "cell_type": "code",
   "execution_count": null,
   "metadata": {
    "trusted": true
   },
   "outputs": [],
   "source": [
    "kf = KFold(n_splits=5, shuffle=True, random_state=2019)    "
   ]
  },
  {
   "cell_type": "markdown",
   "metadata": {},
   "source": [
    "Running models for the dataset:"
   ]
  },
  {
   "cell_type": "code",
   "execution_count": null,
   "metadata": {
    "trusted": true
   },
   "outputs": [],
   "source": [
    "#For each model:\n",
    "for model in all_models:\n",
    "    print('===========\\n Model: ', model)\n",
    "    # for each fold:\n",
    "    accuracies = list()\n",
    "    times = list()\n",
    "    \n",
    "    for i, (train_index, test_index) in enumerate(kf.split(data_train)):\n",
    "        #Builds the train and validation dataset, according to the current fold:\n",
    "        y_train, y_valid = data_labels.iloc[train_index].copy(), data_labels.iloc[test_index]\n",
    "        X_train, X_valid = data_train.iloc[train_index,:].copy(), data_train.iloc[test_index,:].copy()\n",
    "        start = time.time()\n",
    "        model.fit(X_train, y_train)\n",
    "        end = time.time()\n",
    "        times.append(end - start)\n",
    "        pred = model.predict(X_valid)\n",
    "        acc = accuracy_score(pred, y_valid)\n",
    "        accuracies.append(acc)\n",
    "        \n",
    "    print('Final results: \\nMean accuracy:', np.mean(accuracies))\n",
    "    print('Mean traning model time: ', np.mean(times))\n",
    "    print('============')\n",
    "    results.append(np.mean(accuracies))\n",
    "    tempos.append(np.mean(times))"
   ]
  },
  {
   "cell_type": "code",
   "execution_count": null,
   "metadata": {
    "trusted": true
   },
   "outputs": [],
   "source": [
    "data = {'Accuracy': results, 'Time': tempos, 'Model': models}\n",
    "dataframe = pd.DataFrame(data=data)\n",
    "dataframe = dataframe.sort_values(by=['Accuracy'], ascending=False)\n",
    "dataframe"
   ]
  },
  {
   "cell_type": "code",
   "execution_count": null,
   "metadata": {
    "trusted": true
   },
   "outputs": [],
   "source": [
    "dataframe.to_csv('models_results.csv',index=False)"
   ]
  },
  {
   "cell_type": "code",
   "execution_count": null,
   "metadata": {
    "trusted": true
   },
   "outputs": [],
   "source": [
    "model_index = 0\n",
    "for model in all_models:\n",
    "    preds = model.predict(data_test) + 1\n",
    "    dataframe = pd.DataFrame(data={'Id': test_ids, 'Cover_Type': preds})\n",
    "    dataframe.to_csv('submission_model_'+str(model_index)+'.csv', index=False)\n",
    "    model_index += 1\n",
    "    print(dataframe.head())\n",
    "    "
   ]
  }
 ],
 "metadata": {
  "kernelspec": {
   "display_name": "Python 3",
   "language": "python",
   "name": "python3"
  },
  "language_info": {
   "codemirror_mode": {
    "name": "ipython",
    "version": 3
   },
   "file_extension": ".py",
   "mimetype": "text/x-python",
   "name": "python",
   "nbconvert_exporter": "python",
   "pygments_lexer": "ipython3",
   "version": "3.6.8"
  }
 },
 "nbformat": 4,
 "nbformat_minor": 1
}
