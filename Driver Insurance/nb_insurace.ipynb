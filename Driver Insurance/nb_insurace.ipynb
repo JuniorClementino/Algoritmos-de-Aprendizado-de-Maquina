{
 "cells": [
  {
   "cell_type": "code",
   "execution_count": 1,
   "metadata": {},
   "outputs": [],
   "source": [
    "import pandas as pd\n",
    "import numpy as np\n",
    "import data_sampling as ds\n",
    "from sklearn.naive_bayes import GaussianNB\n",
    "\n",
    "train = pd.read_csv(\"train.csv\")\n",
    "test = pd.read_csv(\"test.csv\")"
   ]
  },
  {
   "cell_type": "code",
   "execution_count": 2,
   "metadata": {},
   "outputs": [
    {
     "data": {
      "text/plain": [
       "GaussianNB(priors=None, var_smoothing=1e-09)"
      ]
     },
     "execution_count": 2,
     "metadata": {},
     "output_type": "execute_result"
    }
   ],
   "source": [
    "train = train.drop(columns = ['id'])\n",
    "\n",
    "sub = ds.random_subsampling(train, 1)\n",
    "\n",
    "x = sub[0][0].drop(columns = ['target']).values\n",
    "y = sub[0][0]['target'].values\n",
    "\n",
    "model = GaussianNB()\n",
    "model.fit(x, y)"
   ]
  },
  {
   "cell_type": "code",
   "execution_count": 3,
   "metadata": {},
   "outputs": [],
   "source": [
    "true_labels = sub[0][1]['target'].values\n",
    "predicted = model.predict(sub[0][1].drop(columns = 'target'))"
   ]
  },
  {
   "cell_type": "code",
   "execution_count": 8,
   "metadata": {},
   "outputs": [
    {
     "name": "stdout",
     "output_type": "stream",
     "text": [
      "0.9043970887683717\n"
     ]
    }
   ],
   "source": [
    "count = 0\n",
    "for i in range(len(true_labels)):\n",
    "    if(true_labels[i] == predicted[i]):\n",
    "        count = count + 1\n",
    "        \n",
    "acc = count/len(true_labels)\n",
    "print(acc)\n"
   ]
  },
  {
   "cell_type": "code",
   "execution_count": null,
   "metadata": {},
   "outputs": [],
   "source": []
  }
 ],
 "metadata": {
  "kernelspec": {
   "display_name": "Python 3",
   "language": "python",
   "name": "python3"
  },
  "language_info": {
   "codemirror_mode": {
    "name": "ipython",
    "version": 3
   },
   "file_extension": ".py",
   "mimetype": "text/x-python",
   "name": "python",
   "nbconvert_exporter": "python",
   "pygments_lexer": "ipython3",
   "version": "3.6.7"
  }
 },
 "nbformat": 4,
 "nbformat_minor": 2
}
