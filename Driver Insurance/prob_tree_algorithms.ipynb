{
 "cells": [
  {
   "cell_type": "code",
   "execution_count": 1,
   "metadata": {},
   "outputs": [],
   "source": [
    "import pandas as pd\n",
    "import numpy as np\n",
    "import data_sampling as ds\n",
    "from sklearn import tree\n",
    "from sklearn.naive_bayes import GaussianNB\n",
    "from sklearn.linear_model import LogisticRegression\n",
    "import time\n",
    "\n",
    "train = pd.read_csv(\"train.csv\")\n",
    "test = pd.read_csv(\"test.csv\")"
   ]
  },
  {
   "cell_type": "code",
   "execution_count": 2,
   "metadata": {},
   "outputs": [],
   "source": [
    "train = train.drop(columns = ['id'])\n",
    "\n",
    "sub = ds.random_subsampling(train, 1)\n",
    "\n",
    "x = sub[0][0].drop(columns = ['target']).values\n",
    "y = sub[0][0]['target'].values"
   ]
  },
  {
   "cell_type": "code",
   "execution_count": 3,
   "metadata": {},
   "outputs": [
    {
     "name": "stdout",
     "output_type": "stream",
     "text": [
      "Tempo Árvore de Decisão: 30.98976755142212\n"
     ]
    },
    {
     "name": "stderr",
     "output_type": "stream",
     "text": [
      "/home/afonso/.local/lib/python3.6/site-packages/sklearn/linear_model/logistic.py:758: ConvergenceWarning: lbfgs failed to converge. Increase the number of iterations.\n",
      "  \"of iterations.\", ConvergenceWarning)\n"
     ]
    },
    {
     "name": "stdout",
     "output_type": "stream",
     "text": [
      "Tempo Regressão Logística: 36.48678421974182\n",
      "Tempo Naive Bayes: 0.9188940525054932\n"
     ]
    }
   ],
   "source": [
    "inicio = time.time()\n",
    "model_tree = tree.DecisionTreeClassifier()\n",
    "model_tree.fit(x, y)\n",
    "fim = time.time()\n",
    "print(\"Tempo Árvore de Decisão: \" + str(fim - inicio))\n",
    "\n",
    "inicio = time.time()\n",
    "model_log = LogisticRegression(random_state=0, solver='lbfgs', multi_class='multinomial')\n",
    "model_log.fit(x, y)\n",
    "fim = time.time()\n",
    "print(\"Tempo Regressão Logística: \" + str(fim - inicio))\n",
    "\n",
    "inicio = time.time()\n",
    "model_nb = GaussianNB()\n",
    "model_nb.fit(x, y)\n",
    "fim = time.time()\n",
    "print(\"Tempo Naive Bayes: \" + str(fim - inicio))"
   ]
  },
  {
   "cell_type": "code",
   "execution_count": 4,
   "metadata": {},
   "outputs": [],
   "source": [
    "true_labels = sub[0][1]['target'].values\n",
    "\n",
    "predicted_tree = model_tree.predict(sub[0][1].drop(columns = 'target'))\n",
    "predicted_log = model_log.predict(sub[0][1].drop(columns = 'target'))\n",
    "predicted_nb = model_nb.predict(sub[0][1].drop(columns = 'target'))\n"
   ]
  },
  {
   "cell_type": "code",
   "execution_count": 5,
   "metadata": {},
   "outputs": [
    {
     "name": "stdout",
     "output_type": "stream",
     "text": [
      "Árvore de Decisão: 0.918207294207778\n",
      "Regressão Logística: 0.963744010537422\n",
      "Naive Bayes: 0.9047129426154042\n"
     ]
    }
   ],
   "source": [
    "def accuracy(true_labels, predicted):\n",
    "    count = 0\n",
    "    for i in range(len(true_labels)):\n",
    "        if(true_labels[i] == predicted[i]):\n",
    "            count = count + 1\n",
    "\n",
    "    return count/len(true_labels)\n",
    "\n",
    "print(\"Árvore de Decisão: \" + str(accuracy(true_labels, predicted_tree)))\n",
    "print(\"Regressão Logística: \" + str(accuracy(true_labels, predicted_log)))\n",
    "print(\"Naive Bayes: \" + str(accuracy(true_labels, predicted_nb)))\n",
    "    "
   ]
  },
  {
   "cell_type": "code",
   "execution_count": null,
   "metadata": {},
   "outputs": [],
   "source": []
  }
 ],
 "metadata": {
  "kernelspec": {
   "display_name": "Python 3",
   "language": "python",
   "name": "python3"
  },
  "language_info": {
   "codemirror_mode": {
    "name": "ipython",
    "version": 3
   },
   "file_extension": ".py",
   "mimetype": "text/x-python",
   "name": "python",
   "nbconvert_exporter": "python",
   "pygments_lexer": "ipython3",
   "version": "3.6.7"
  }
 },
 "nbformat": 4,
 "nbformat_minor": 2
}
