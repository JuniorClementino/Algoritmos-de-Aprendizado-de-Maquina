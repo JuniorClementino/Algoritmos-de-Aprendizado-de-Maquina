{
 "cells": [
  {
   "cell_type": "code",
   "execution_count": 1,
   "metadata": {},
   "outputs": [
    {
     "name": "stdout",
     "output_type": "stream",
     "text": [
      "(595212, 59)\n"
     ]
    }
   ],
   "source": [
    "import pandas as pd\n",
    "import numpy as np\n",
    "import data_sampling as ds\n",
    "from sklearn.naive_bayes import GaussianNB\n",
    "from sklearn.model_selection import KFold, StratifiedKFold\n",
    "from sklearn.linear_model import LogisticRegression\n",
    "from sklearn.tree import DecisionTreeClassifier\n",
    "\n",
    "train = pd.read_csv(\"train.csv\")\n",
    "test = pd.read_csv(\"test.csv\")\n",
    "\n",
    "print(np.shape(train))"
   ]
  },
  {
   "cell_type": "code",
   "execution_count": 2,
   "metadata": {},
   "outputs": [],
   "source": [
    "y = train['target']\n",
    "train = train.drop(columns = ['target', 'id'])"
   ]
  },
  {
   "cell_type": "code",
   "execution_count": 3,
   "metadata": {},
   "outputs": [],
   "source": [
    "all_models = [GaussianNB(), \n",
    "              LogisticRegression(random_state=2019, solver='lbfgs', multi_class='multinomial', \n",
    "                                 n_jobs=-1, max_iter=256, verbose=2), \n",
    "              DecisionTreeClassifier()]"
   ]
  },
  {
   "cell_type": "code",
   "execution_count": 4,
   "metadata": {},
   "outputs": [],
   "source": [
    "kf = KFold(n_splits=5, shuffle=True, random_state=2019)    "
   ]
  },
  {
   "cell_type": "code",
   "execution_count": 5,
   "metadata": {},
   "outputs": [
    {
     "name": "stdout",
     "output_type": "stream",
     "text": [
      "\n",
      "\n",
      " ======= Model:  GaussianNB(priors=None, var_smoothing=1e-09) =======\n",
      "Fold 0\n",
      "Accuracy: 0.902942634174206\n",
      "Fold 1\n",
      "Accuracy: 0.9074032072444411\n",
      "Fold 2\n",
      "Accuracy: 0.9027654105273769\n",
      "Fold 3\n",
      "Accuracy: 0.9075116345491507\n",
      "Fold 4\n",
      "Accuracy: 0.9037650577107239\n",
      "Final results: mean accuracy: 0.9048775888411799\n",
      "\n",
      "\n",
      " ======= Model:  LogisticRegression(C=1.0, class_weight=None, dual=False, fit_intercept=True,\n",
      "          intercept_scaling=1, max_iter=256, multi_class='multinomial',\n",
      "          n_jobs=-1, penalty='l2', random_state=2019, solver='lbfgs',\n",
      "          tol=0.0001, verbose=2, warm_start=False) =======\n",
      "Fold 0\n"
     ]
    },
    {
     "name": "stderr",
     "output_type": "stream",
     "text": [
      "[Parallel(n_jobs=-1)]: Using backend LokyBackend with 4 concurrent workers.\n",
      "[Parallel(n_jobs=-1)]: Done   1 out of   1 | elapsed:  3.8min finished\n"
     ]
    },
    {
     "name": "stdout",
     "output_type": "stream",
     "text": [
      "Accuracy: 0.9635257848004503\n",
      "Fold 1\n"
     ]
    },
    {
     "name": "stderr",
     "output_type": "stream",
     "text": [
      "[Parallel(n_jobs=-1)]: Using backend LokyBackend with 4 concurrent workers.\n",
      "[Parallel(n_jobs=-1)]: Done   1 out of   1 | elapsed:  3.4min finished\n"
     ]
    },
    {
     "name": "stdout",
     "output_type": "stream",
     "text": [
      "Accuracy: 0.9630973681778853\n",
      "Fold 2\n"
     ]
    },
    {
     "name": "stderr",
     "output_type": "stream",
     "text": [
      "[Parallel(n_jobs=-1)]: Using backend LokyBackend with 4 concurrent workers.\n",
      "[Parallel(n_jobs=-1)]: Done   1 out of   1 | elapsed:  3.4min finished\n"
     ]
    },
    {
     "name": "stdout",
     "output_type": "stream",
     "text": [
      "Accuracy: 0.9632818669041179\n",
      "Fold 3\n"
     ]
    },
    {
     "name": "stderr",
     "output_type": "stream",
     "text": [
      "[Parallel(n_jobs=-1)]: Using backend LokyBackend with 4 concurrent workers.\n",
      "[Parallel(n_jobs=-1)]: Done   1 out of   1 | elapsed:  3.3min finished\n"
     ]
    },
    {
     "name": "stdout",
     "output_type": "stream",
     "text": [
      "Accuracy: 0.9642731136909662\n",
      "Fold 4\n"
     ]
    },
    {
     "name": "stderr",
     "output_type": "stream",
     "text": [
      "[Parallel(n_jobs=-1)]: Using backend LokyBackend with 4 concurrent workers.\n",
      "[Parallel(n_jobs=-1)]: Done   1 out of   1 | elapsed:  3.6min finished\n"
     ]
    },
    {
     "name": "stdout",
     "output_type": "stream",
     "text": [
      "Accuracy: 0.9635842811780716\n",
      "Final results: mean accuracy: 0.9635524829502984\n",
      "\n",
      "\n",
      " ======= Model:  DecisionTreeClassifier(class_weight=None, criterion='gini', max_depth=None,\n",
      "            max_features=None, max_leaf_nodes=None,\n",
      "            min_impurity_decrease=0.0, min_impurity_split=None,\n",
      "            min_samples_leaf=1, min_samples_split=2,\n",
      "            min_weight_fraction_leaf=0.0, presort=False, random_state=None,\n",
      "            splitter='best') =======\n",
      "Fold 0\n",
      "Accuracy: 0.917542400645145\n",
      "Fold 1\n",
      "Accuracy: 0.9181640247641608\n",
      "Fold 2\n",
      "Accuracy: 0.918751365064431\n",
      "Fold 3\n",
      "Accuracy: 0.9183649468254902\n",
      "Fold 4\n",
      "Accuracy: 0.9194065959913308\n",
      "Final results: mean accuracy: 0.9184458666581115\n"
     ]
    }
   ],
   "source": [
    "#For each model:\n",
    "for model in all_models:\n",
    "    print('\\n\\n======= Model: ', model, '=======')\n",
    "    # for each fold:\n",
    "    accuracies = list()\n",
    "    for i, (train_index, test_index) in enumerate(kf.split(train)):\n",
    "        #Builds the train and validation dataset, according to the current fold:\n",
    "        y_train, y_valid = y.iloc[train_index].copy(), y.iloc[test_index]\n",
    "        X_train, X_valid = train.iloc[train_index,:].copy(), train.iloc[test_index,:].copy()\n",
    "        print(\"Fold\", i)\n",
    "        model.fit(X_train, y_train)\n",
    "        pred = model.predict(X_valid)\n",
    "        acc = np.equal(pred, y_valid).astype(float)\n",
    "        acc = np.mean(acc)\n",
    "        print('Accuracy:', acc)\n",
    "        accuracies.append(acc)\n",
    "    print('Final results: \\nMean accuracy:', np.mean(accuracies))"
   ]
  },
  {
   "cell_type": "code",
   "execution_count": null,
   "metadata": {},
   "outputs": [],
   "source": []
  }
 ],
 "metadata": {
  "kernelspec": {
   "display_name": "Python 3",
   "language": "python",
   "name": "python3"
  },
  "language_info": {
   "codemirror_mode": {
    "name": "ipython",
    "version": 3
   },
   "file_extension": ".py",
   "mimetype": "text/x-python",
   "name": "python",
   "nbconvert_exporter": "python",
   "pygments_lexer": "ipython3",
   "version": "3.6.7"
  }
 },
 "nbformat": 4,
 "nbformat_minor": 2
}
